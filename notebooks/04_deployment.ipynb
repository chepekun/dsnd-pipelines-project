{
 "cells": [
  {
   "cell_type": "markdown",
   "id": "185d71ff",
   "metadata": {},
   "source": [
    "This notebook shows how the text processor and model are used to predict the recommendation probability for a new article."
   ]
  },
  {
   "cell_type": "markdown",
   "id": "e46fc821",
   "metadata": {},
   "source": [
    "Load depedencies"
   ]
  },
  {
   "cell_type": "code",
   "execution_count": 1,
   "id": "e86e475a",
   "metadata": {},
   "outputs": [],
   "source": [
    "import os\n",
    "from pathlib import Path\n",
    "\n",
    "import joblib\n",
    "import numpy as np\n",
    "import pandas as pd\n",
    "\n",
    "from stylesense.text_transformers import TextProcessor"
   ]
  },
  {
   "cell_type": "markdown",
   "id": "b9cb9320",
   "metadata": {},
   "source": [
    "Load model"
   ]
  },
  {
   "cell_type": "code",
   "execution_count": 2,
   "id": "95dcb188",
   "metadata": {},
   "outputs": [],
   "source": [
    "model_path = Path(os.path.abspath('')).parent / \"data\" / \"model.joblib\"\n",
    "\n",
    "artifact = joblib.load(model_path)\n",
    "model = artifact[\"model\"]"
   ]
  },
  {
   "cell_type": "markdown",
   "id": "54612d0f",
   "metadata": {},
   "source": [
    "Define utility method"
   ]
  },
  {
   "cell_type": "code",
   "execution_count": 3,
   "id": "834b54a0",
   "metadata": {},
   "outputs": [],
   "source": [
    "def predict_recommendation_probability(X):\n",
    "    x_ = TextProcessor().transform(X)\n",
    "    predicted = model.predict_proba(x_)[:, 1]\n",
    "    print(\n",
    "        f\"The predicted recommendation probability for article {X.iloc[0]['Clothing ID']} is {np.mean(predicted):.3f}\"\n",
    "    )"
   ]
  },
  {
   "cell_type": "markdown",
   "id": "2802f8d8",
   "metadata": {},
   "source": [
    "Load the reviews for a test article.\n",
    "\n",
    "In production this would be a different file than the one used for training. Here we are re-using one as proof of concept."
   ]
  },
  {
   "cell_type": "code",
   "execution_count": 4,
   "id": "8b38f1ff",
   "metadata": {},
   "outputs": [],
   "source": [
    "file_path = Path(os.path.abspath('')).parent / \"data\" / \"reviews.csv\"\n",
    "df = pd.read_csv(file_path)\n",
    "\n",
    "# select one article\n",
    "X = df[df[\"Clothing ID\"] == 1049]"
   ]
  },
  {
   "cell_type": "markdown",
   "id": "c68462d3",
   "metadata": {},
   "source": [
    "Predict"
   ]
  },
  {
   "cell_type": "code",
   "execution_count": 5,
   "id": "5261df48",
   "metadata": {},
   "outputs": [
    {
     "name": "stdout",
     "output_type": "stream",
     "text": [
      "The predicted recommendation probability for article 1049 is 0.901\n"
     ]
    }
   ],
   "source": [
    "predict_recommendation_probability(X)"
   ]
  }
 ],
 "metadata": {
  "kernelspec": {
   "display_name": "dsnd-pipelines-project",
   "language": "python",
   "name": "python3"
  },
  "language_info": {
   "codemirror_mode": {
    "name": "ipython",
    "version": 3
   },
   "file_extension": ".py",
   "mimetype": "text/x-python",
   "name": "python",
   "nbconvert_exporter": "python",
   "pygments_lexer": "ipython3",
   "version": "3.12.11"
  }
 },
 "nbformat": 4,
 "nbformat_minor": 5
}
