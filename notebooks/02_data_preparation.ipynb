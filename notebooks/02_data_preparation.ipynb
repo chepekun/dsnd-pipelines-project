{
 "cells": [
  {
   "cell_type": "markdown",
   "id": "6a778341",
   "metadata": {},
   "source": [
    "In this notebook the data will be pre-processed before fitting the model. \n",
    "\n",
    "This includes:\n",
    "* Fixing the Clothing ID that is duplicated across Classes.\n",
    "* Removing articles with a low number of reviews where the recommendation probability is not clear yet.\n",
    "* Adding a column with the recommendation probability (our modelling target).\n",
    "* Pre-computing the NLP per review using the title and the text. \n",
    "    * This will save time when fitting the model, especially in cross validation. \n",
    "    * We can still dynamically select which NLP columns to use in the pipeline\n"
   ]
  },
  {
   "cell_type": "markdown",
   "id": "fff07b0e",
   "metadata": {},
   "source": [
    "Import requirements"
   ]
  },
  {
   "cell_type": "code",
   "execution_count": 1,
   "id": "04d662c8",
   "metadata": {},
   "outputs": [],
   "source": [
    "import os\n",
    "from pathlib import Path\n",
    "\n",
    "import pandas as pd\n",
    "\n",
    "# custom transformer to process text\n",
    "from stylesense.text_transformers import TextProcessor"
   ]
  },
  {
   "cell_type": "markdown",
   "id": "0076dc13",
   "metadata": {},
   "source": [
    "Load data"
   ]
  },
  {
   "cell_type": "code",
   "execution_count": 2,
   "id": "f1e4c731",
   "metadata": {},
   "outputs": [],
   "source": [
    "file_path = Path(os.path.abspath('')).parent / \"data\" / \"reviews.csv\"\n",
    "df = pd.read_csv(file_path)"
   ]
  },
  {
   "cell_type": "markdown",
   "id": "6428c9dd",
   "metadata": {},
   "source": [
    "Update duplicated Clothing ID"
   ]
  },
  {
   "cell_type": "code",
   "execution_count": 3,
   "id": "846951e3",
   "metadata": {},
   "outputs": [],
   "source": [
    "clothing_class_counts = df.groupby('Clothing ID')['Class Name'].nunique()\n",
    "multiple_class_ids = clothing_class_counts[clothing_class_counts > 1]\n",
    "\n",
    "for id in multiple_class_ids.index:   \n",
    "    next_id = max(df['Clothing ID']) + 1\n",
    "    df.loc[(df['Clothing ID'] == id) & (df['Division Name'] == \"General\"), 'Clothing ID'] = next_id"
   ]
  },
  {
   "cell_type": "markdown",
   "id": "cdc83da5",
   "metadata": {},
   "source": [
    "Remove article IDs with low number of reviews"
   ]
  },
  {
   "cell_type": "code",
   "execution_count": 4,
   "id": "63eaad65",
   "metadata": {},
   "outputs": [],
   "source": [
    "min_reviews = 10\n",
    "num_reviews = df['Clothing ID'].value_counts()\n",
    "df = df[df['Clothing ID'].isin(num_reviews[num_reviews >= min_reviews].index)]"
   ]
  },
  {
   "cell_type": "markdown",
   "id": "87a57d78",
   "metadata": {},
   "source": [
    "Pre-process NLP"
   ]
  },
  {
   "cell_type": "code",
   "execution_count": 5,
   "id": "8222e0a8",
   "metadata": {},
   "outputs": [],
   "source": [
    "df = TextProcessor().transform(df)\n",
    "df.drop([\"Title\", \"Review Text\"], axis=1, inplace=True)"
   ]
  },
  {
   "cell_type": "markdown",
   "id": "2d9e914f",
   "metadata": {},
   "source": [
    "Export CSV file"
   ]
  },
  {
   "cell_type": "code",
   "execution_count": 7,
   "id": "6919cbc5",
   "metadata": {},
   "outputs": [],
   "source": [
    "file_path = Path(os.path.abspath('')).parent / \"data\" / \"reviews_processed.csv\"\n",
    "df.to_csv(file_path, index=False)"
   ]
  }
 ],
 "metadata": {
  "kernelspec": {
   "display_name": "dsnd-pipelines-project",
   "language": "python",
   "name": "python3"
  },
  "language_info": {
   "codemirror_mode": {
    "name": "ipython",
    "version": 3
   },
   "file_extension": ".py",
   "mimetype": "text/x-python",
   "name": "python",
   "nbconvert_exporter": "python",
   "pygments_lexer": "ipython3",
   "version": "3.12.11"
  }
 },
 "nbformat": 4,
 "nbformat_minor": 5
}
