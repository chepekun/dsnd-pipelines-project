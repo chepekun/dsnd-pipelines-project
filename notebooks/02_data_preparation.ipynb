{
 "cells": [
  {
   "cell_type": "markdown",
   "id": "6a778341",
   "metadata": {},
   "source": [
    "In this notebook the data will be pre-processed before fitting the model. \n",
    "\n",
    "This includes:\n",
    "* Fixing the Clothing ID that is duplicated across Classes.\n",
    "* Removing articles with a low number of reviews where the recommendation probability is not clear yet.\n",
    "* Adding a column with the recommendation probability (our modelling target).\n",
    "* Pre-computing the NLP per review using the title and the text. \n",
    "    * This will save time when fitting the model, especially in CV. \n",
    "    * We can still dynamically select which NLP columns to use in the pipeline\n"
   ]
  },
  {
   "cell_type": "markdown",
   "id": "fff07b0e",
   "metadata": {},
   "source": [
    "Import requirements"
   ]
  },
  {
   "cell_type": "code",
   "execution_count": 10,
   "id": "04d662c8",
   "metadata": {},
   "outputs": [],
   "source": [
    "import os\n",
    "from pathlib import Path\n",
    "\n",
    "import pandas as pd\n",
    "import spacy"
   ]
  },
  {
   "cell_type": "code",
   "execution_count": 11,
   "id": "d10f6590",
   "metadata": {},
   "outputs": [],
   "source": [
    "# ! python -m spacy download en_core_web_sm\n",
    "nlp = spacy.load(\"en_core_web_sm\")"
   ]
  },
  {
   "cell_type": "markdown",
   "id": "0076dc13",
   "metadata": {},
   "source": [
    "Load data"
   ]
  },
  {
   "cell_type": "code",
   "execution_count": 12,
   "id": "f1e4c731",
   "metadata": {},
   "outputs": [],
   "source": [
    "file_path = Path(os.path.abspath('')).parent / \"data\" / \"reviews.csv\"\n",
    "df = pd.read_csv(file_path)"
   ]
  },
  {
   "cell_type": "markdown",
   "id": "6428c9dd",
   "metadata": {},
   "source": [
    "Update duplicated Clothing ID"
   ]
  },
  {
   "cell_type": "code",
   "execution_count": 13,
   "id": "846951e3",
   "metadata": {},
   "outputs": [],
   "source": [
    "clothing_class_counts = df.groupby('Clothing ID')['Class Name'].nunique()\n",
    "multiple_class_ids = clothing_class_counts[clothing_class_counts > 1]\n",
    "\n",
    "for id in multiple_class_ids.index:   \n",
    "    next_id = max(df['Clothing ID']) + 1\n",
    "    df.loc[(df['Clothing ID'] == id) & (df['Division Name'] == \"General\"), 'Clothing ID'] = next_id"
   ]
  },
  {
   "cell_type": "markdown",
   "id": "cdc83da5",
   "metadata": {},
   "source": [
    "Remove article IDs with low number of reviews"
   ]
  },
  {
   "cell_type": "code",
   "execution_count": 14,
   "id": "63eaad65",
   "metadata": {},
   "outputs": [],
   "source": [
    "min_reviews = 10\n",
    "num_reviews = df['Clothing ID'].value_counts()\n",
    "df = df[df['Clothing ID'].isin(num_reviews[num_reviews >= min_reviews].index)]"
   ]
  },
  {
   "cell_type": "markdown",
   "id": "87a57d78",
   "metadata": {},
   "source": [
    "Pre-process NLP"
   ]
  },
  {
   "cell_type": "code",
   "execution_count": 15,
   "id": "c412db05",
   "metadata": {},
   "outputs": [],
   "source": [
    "positive_sentiment = [\"great\", \"beautiful\", \"cute\", \"nice\", \"lovely\", \"comfortable\", \"gorgeous\", \"perfect\",\n",
    "                  \"pretty\", \"flattering\", \"good\", \"comfy\", \"amazing\", \"adorable\", \"stylish\", \"cozy\", \"fun\",\n",
    "                  \"perfection\", \"perfect\", \"awesome\"]\n",
    "negative_sentiment = [\"poor\", \"meh\", \"boxy\", \"scratchy\", \"shapeless\", \"odd\", \"thin\", \"weird\", \"disapointing\",\n",
    "                      \"awkward\", \"bummer\", \"unflattering\", \"bad\", \"strange\", \"itchy\", \"cheaply\", \"cheap\",\n",
    "                      \"stiff\", \"minus\"]\n",
    "mixed_sentiment = [\"but\", \"yet\", \"or\"]\n",
    "\n",
    "\n",
    "def process_text(input_field: str, input_text: str):\n",
    "    input_field = input_field.lower().replace(\" \", \"_\")\n",
    "    doc = nlp(input_text)\n",
    "    \n",
    "    num_pronoums = 0\n",
    "    num_adjectives = 0\n",
    "    num_verbs = 0\n",
    "    num_nouns = 0\n",
    "    num_conjunctions = 0\n",
    "    num_numbers = 0\n",
    "    num_symbols = 0\n",
    "\n",
    "    positive_count = 0\n",
    "    negative_count = 0\n",
    "    mixed_count = 0\n",
    "    \n",
    "    for token in doc:        \n",
    "        if token.pos_ == 'PROPN':\n",
    "            num_pronoums +=1\n",
    "        if token.pos_ == 'ADJ':\n",
    "            num_adjectives += 1\n",
    "        if token.pos_ == 'VERB':\n",
    "            num_verbs += 1\n",
    "        if token.pos_ == 'NOUN':    \n",
    "            num_nouns += 1\n",
    "        if token.pos_ == 'CCONJ':\n",
    "            num_conjunctions += 1\n",
    "        if token.pos_ == 'NUM':\n",
    "            num_numbers += 1\n",
    "        if token.pos_ == 'SYM':\n",
    "            num_symbols += 1\n",
    "\n",
    "        if token.pos_ in ['ADJ', 'PROPN', 'CCONJ']:\n",
    "            if token.lemma_.lower() in positive_sentiment:\n",
    "                positive_count += 1\n",
    "            elif token.lemma_.lower() in negative_sentiment:\n",
    "                negative_count += 1\n",
    "            elif token.lemma_.lower() in mixed_sentiment:\n",
    "                mixed_count += 1\n",
    "        \n",
    "    return {\n",
    "        # special characters\n",
    "        input_field + '_char_point': input_text.count('.'),\n",
    "        input_field + '_char_comma': input_text.count(','),\n",
    "        input_field + '_char_semicolon': input_text.count(';'),\n",
    "        input_field + '_char_quotes': input_text.count('\"') + input_text.count(\"'\"),\n",
    "        input_field + '_char_exclamation': input_text.count('!'),\n",
    "        input_field + '_char_question': input_text.count('?'),\n",
    "        input_field + '_char_hashtag': input_text.count('#'),\n",
    "        input_field + '_char_ellipsis': input_text.count('...') + input_text.count('..'),  \n",
    "        # NLP\n",
    "        input_field + '_nlp_tokens': len(doc),\n",
    "        input_field + '_nlp_sentences': len(list(doc.sents)),\n",
    "        input_field + '_nlp_pronoums': num_pronoums,\n",
    "        input_field + '_nlp_adjectives': num_adjectives,\n",
    "        input_field + '_nlp_verbs': num_verbs,\n",
    "        input_field + '_nlp_nouns': num_nouns,\n",
    "        input_field + '_nlp_conjunctions': num_conjunctions,\n",
    "        input_field + '_nlp_numbers': num_numbers,\n",
    "        input_field + '_nlp_symbols': num_symbols,\n",
    "        # Sentiment\n",
    "        input_field + '_sentiment_positive': positive_count,\n",
    "        input_field + '_sentiment_negative': negative_count,\n",
    "        input_field + '_sentiment_mixed': mixed_count,    \n",
    "    }\n"
   ]
  },
  {
   "cell_type": "code",
   "execution_count": 16,
   "id": "8222e0a8",
   "metadata": {},
   "outputs": [],
   "source": [
    "for column in [\"Title\", \"Review Text\"]:\n",
    "    title_characters = df[column].apply(lambda txt: process_text(column.lower().replace(\" \",\"_\"), txt)).apply(pd.Series)\n",
    "    df = pd.merge(df, title_characters,  left_index=True, right_index=True)\n",
    "\n",
    "df.drop([\"Title\", \"Review Text\"], axis=1, inplace=True)"
   ]
  },
  {
   "cell_type": "markdown",
   "id": "2d9e914f",
   "metadata": {},
   "source": [
    "Export CSV file"
   ]
  },
  {
   "cell_type": "code",
   "execution_count": 17,
   "id": "6919cbc5",
   "metadata": {},
   "outputs": [],
   "source": [
    "file_path = Path(os.path.abspath('')).parent / \"data\" / \"reviews_processed.csv\"\n",
    "df.to_csv(file_path, index=False)"
   ]
  }
 ],
 "metadata": {
  "kernelspec": {
   "display_name": "dsnd-pipelines-project",
   "language": "python",
   "name": "python3"
  },
  "language_info": {
   "codemirror_mode": {
    "name": "ipython",
    "version": 3
   },
   "file_extension": ".py",
   "mimetype": "text/x-python",
   "name": "python",
   "nbconvert_exporter": "python",
   "pygments_lexer": "ipython3",
   "version": "3.12.11"
  }
 },
 "nbformat": 4,
 "nbformat_minor": 5
}
